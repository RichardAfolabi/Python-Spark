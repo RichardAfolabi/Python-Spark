{
 "cells": [
  {
   "cell_type": "markdown",
   "metadata": {},
   "source": [
    "> In case of error: `You must build Spark with Hive. Export 'SPARK_HIVE=true'` \n",
    "* Then, create a new `SQLContext` object before using `sqlContext`. This error happens if there are multiple notebooks using the same out-of-box `sqlContext`.\n",
    "\n",
    "* `from pyspark.sql import SQLContext`\n",
    "* `sqlContext = SQLContext(sc)`"
   ]
  },
  {
   "cell_type": "code",
   "execution_count": 8,
   "metadata": {
    "collapsed": false
   },
   "outputs": [
    {
     "data": {
      "text/plain": [
       "'local[*]'"
      ]
     },
     "execution_count": 8,
     "metadata": {},
     "output_type": "execute_result"
    }
   ],
   "source": [
    "%matplotlib inline\n",
    "import pandas as pd\n",
    "from pyspark.sql import SQLContext, Row\n",
    "from pyspark.mllib.linalg import Vectors\n",
    "from pyspark.ml.feature import VectorAssembler\n",
    "sqlContext=SQLContext(sc)\n",
    "\n",
    "sc.master"
   ]
  },
  {
   "cell_type": "code",
   "execution_count": 1,
   "metadata": {
    "collapsed": false,
    "scrolled": true
   },
   "outputs": [
    {
     "name": "stdout",
     "output_type": "stream",
     "text": [
      "8 cores /workers\n"
     ]
    }
   ],
   "source": [
    "# What version of Spark\n",
    "print(sc.version)\n",
    "\n",
    "# How many cores do I have?\n",
    "wrks = ! echo %NUMBER_OF_PROCESSORS%\n",
    "print( wrks[0] + ' cores /workers')"
   ]
  },
  {
   "cell_type": "markdown",
   "metadata": {},
   "source": [
    "> `user_id, hour, mobile, userFeatures` are predictors `X` while `clicked` is the prediction or observation variable `Y` which we want to predict for each user `ID`. We compose all four into single varible `features`."
   ]
  },
  {
   "cell_type": "raw",
   "metadata": {},
   "source": [
    " id | hour | mobile | userFeatures     | clicked | features\n",
    "----|------|--------|------------------|---------|-----------------------------\n",
    " 0  | 18   | 1.0    | [0.0, 10.0, 0.5] | 1.0     | [18.0, 1.0, 0.0, 10.0, 0.5]"
   ]
  },
  {
   "cell_type": "code",
   "execution_count": 4,
   "metadata": {
    "collapsed": false
   },
   "outputs": [
    {
     "data": {
      "text/plain": [
       "[(0, 18, 1.0, DenseVector([0.0, 10.0, 0.5]), 1.0),\n",
       " (1, 11, 0.5, DenseVector([0.3, 14.5, 7.5]), 0.0)]"
      ]
     },
     "execution_count": 4,
     "metadata": {},
     "output_type": "execute_result"
    }
   ],
   "source": [
    "# Compose all features into single `feature vector` for each user\n",
    "usr_features = [(0, 18, 1.0, Vectors.dense([0.0, 10.0, 0.5]), 1.0), \n",
    "                (1, 11, 0.5, Vectors.dense([0.3, 14.5, 7.5]), 0.0)]\n",
    "usr_features"
   ]
  },
  {
   "cell_type": "code",
   "execution_count": 9,
   "metadata": {
    "collapsed": false
   },
   "outputs": [
    {
     "data": {
      "text/plain": [
       "[Row(id=0, hour=18, mobile=1.0, userFeatures=DenseVector([0.0, 10.0, 0.5]), clicked=1.0),\n",
       " Row(id=1, hour=11, mobile=0.5, userFeatures=DenseVector([0.3, 14.5, 7.5]), clicked=0.0)]"
      ]
     },
     "execution_count": 9,
     "metadata": {},
     "output_type": "execute_result"
    }
   ],
   "source": [
    "# Create the Dataframes with individual schema (column header).\n",
    "dataset = sqlContext.createDataFrame(usr_features,\n",
    "                                     [\"id\", \"hour\", \"mobile\", \"userFeatures\", \"clicked\"])\n",
    "dataset.collect()"
   ]
  },
  {
   "cell_type": "code",
   "execution_count": 10,
   "metadata": {
    "collapsed": false
   },
   "outputs": [
    {
     "name": "stdout",
     "output_type": "stream",
     "text": [
      "Final Dataset: Columns 'hour', 'mobile', 'userFeatures' assembled to vector 'features'\n",
      "+-----------------------+-------+\n",
      "|features               |clicked|\n",
      "+-----------------------+-------+\n",
      "|[18.0,1.0,0.0,10.0,0.5]|1.0    |\n",
      "|[11.0,0.5,0.3,14.5,7.5]|0.0    |\n",
      "+-----------------------+-------+\n",
      "\n"
     ]
    }
   ],
   "source": [
    "# \n",
    "assembler = VectorAssembler(inputCols=[\"hour\", \"mobile\", \"userFeatures\"], outputCol=\"features\")\n",
    "output = assembler.transform(dataset)\n",
    "\n",
    "print(\"Final Dataset: Columns 'hour', 'mobile', 'userFeatures' assembled to vector 'features'\")\n",
    "output.select(\"features\", \"clicked\").show(truncate=False)"
   ]
  },
  {
   "cell_type": "code",
   "execution_count": null,
   "metadata": {
    "collapsed": true
   },
   "outputs": [],
   "source": []
  }
 ],
 "metadata": {
  "anaconda-cloud": {},
  "kernelspec": {
   "display_name": "Python [Root]",
   "language": "python",
   "name": "Python [Root]"
  },
  "language_info": {
   "codemirror_mode": {
    "name": "ipython",
    "version": 3
   },
   "file_extension": ".py",
   "mimetype": "text/x-python",
   "name": "python",
   "nbconvert_exporter": "python",
   "pygments_lexer": "ipython3",
   "version": "3.5.2"
  }
 },
 "nbformat": 4,
 "nbformat_minor": 0
}
