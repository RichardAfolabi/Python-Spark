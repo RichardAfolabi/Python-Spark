{
 "cells": [
  {
   "cell_type": "markdown",
   "metadata": {},
   "source": [
    "# Movie Ratings with `Spark`, and `MLib`"
   ]
  },
  {
   "cell_type": "code",
   "execution_count": 1,
   "metadata": {
    "collapsed": true
   },
   "outputs": [],
   "source": [
    "import re\n",
    "import pandas as pd"
   ]
  },
  {
   "cell_type": "markdown",
   "metadata": {},
   "source": [
    "> Note that Spark SQL JSON is different from regular JSON. Each row must be self-contained whereas regular/typical JSON is more like a single tree. However, there are ways to work around the issue."
   ]
  },
  {
   "cell_type": "code",
   "execution_count": 15,
   "metadata": {
    "collapsed": false
   },
   "outputs": [
    {
     "data": {
      "text/plain": [
       "title                     9423\n",
       "imdbID                    9423\n",
       "spanishTitle              9423\n",
       "imdbPictureURL            9247\n",
       "year                      9423\n",
       "rtID                      9126\n",
       "rtAllCriticsRating        9423\n",
       "rtAllCriticsNumReviews    9423\n",
       "rtAllCriticsNumFresh      9423\n",
       "rtAllCriticsNumRotten     9423\n",
       "rtAllCriticsScore         9423\n",
       "rtTopCriticsRating        9423\n",
       "rtTopCriticsNumReviews    9423\n",
       "rtTopCriticsNumFresh      9423\n",
       "rtTopCriticsNumRotten     9423\n",
       "rtTopCriticsScore         9423\n",
       "rtAudienceRating          9423\n",
       "rtAudienceNumRatings      9423\n",
       "rtAudienceScore           9423\n",
       "rtPictureURL              9423\n",
       "dtype: int64"
      ]
     },
     "execution_count": 15,
     "metadata": {},
     "output_type": "execute_result"
    }
   ],
   "source": [
    "movies = pd.read_table(\"../Data_Science_Harvard/2014_data/movies.dat\", index_col=0)\n",
    "movies.head()\n",
    "\n",
    "movies.count()"
   ]
  },
  {
   "cell_type": "code",
   "execution_count": 15,
   "metadata": {
    "collapsed": false
   },
   "outputs": [],
   "source": [
    "people = sqlContext.read.json(\"../examples/src/main/resources/people.json\")\n",
    "people.printSchema()"
   ]
  },
  {
   "cell_type": "code",
   "execution_count": 17,
   "metadata": {
    "collapsed": false
   },
   "outputs": [],
   "source": [
    "people.registerTemTable(\"people\")"
   ]
  },
  {
   "cell_type": "code",
   "execution_count": 7,
   "metadata": {
    "collapsed": true
   },
   "outputs": [],
   "source": [
    "sqlContext.sql(\"SELECT name from people\").show()"
   ]
  },
  {
   "cell_type": "code",
   "execution_count": 22,
   "metadata": {
    "collapsed": false
   },
   "outputs": [],
   "source": [
    "jsonRDD = sc.wholeTextFiles(\"all-world-cup-players.json\").map(lambda x: x[1])\n",
    "jsonRDD.collect()"
   ]
  },
  {
   "cell_type": "code",
   "execution_count": null,
   "metadata": {
    "collapsed": true
   },
   "outputs": [],
   "source": [
    "js = jsonRDD.map(lambda x: re.sub(r\"\\s+\", \"\", x, flags=re.UNICODE))"
   ]
  }
 ],
 "metadata": {
  "kernelspec": {
   "display_name": "Python 2",
   "language": "python",
   "name": "python2"
  },
  "language_info": {
   "codemirror_mode": {
    "name": "ipython",
    "version": 2
   },
   "file_extension": ".py",
   "mimetype": "text/x-python",
   "name": "python",
   "nbconvert_exporter": "python",
   "pygments_lexer": "ipython2",
   "version": "2.7.11"
  }
 },
 "nbformat": 4,
 "nbformat_minor": 0
}
