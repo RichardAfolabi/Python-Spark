{
 "cells": [
  {
   "cell_type": "markdown",
   "metadata": {},
   "source": [
    "# Running Spark `Locally` in iPython Notebook "
   ]
  },
  {
   "cell_type": "code",
   "execution_count": 6,
   "metadata": {
    "collapsed": true
   },
   "outputs": [],
   "source": [
    "import os\n",
    "import pandas as pd"
   ]
  },
  {
   "cell_type": "code",
   "execution_count": 23,
   "metadata": {
    "collapsed": false
   },
   "outputs": [
    {
     "data": {
      "text/plain": [
       "'local[*]'"
      ]
     },
     "execution_count": 23,
     "metadata": {},
     "output_type": "execute_result"
    }
   ],
   "source": [
    "# Run Spark locally with as many worker threads as logical cores on machine.\n",
    "sc.master"
   ]
  },
  {
   "cell_type": "code",
   "execution_count": null,
   "metadata": {
    "collapsed": true
   },
   "outputs": [],
   "source": []
  },
  {
   "cell_type": "code",
   "execution_count": 25,
   "metadata": {
    "collapsed": false
   },
   "outputs": [
    {
     "data": {
      "text/plain": [
       "'1.6.2'"
      ]
     },
     "execution_count": 25,
     "metadata": {},
     "output_type": "execute_result"
    }
   ],
   "source": [
    "# What version of Spark\n",
    "sc.version"
   ]
  },
  {
   "cell_type": "code",
   "execution_count": 19,
   "metadata": {
    "collapsed": false
   },
   "outputs": [
    {
     "name": "stdout",
     "output_type": "stream",
     "text": [
      "8 cores /workers\n"
     ]
    }
   ],
   "source": [
    "# How many cores do I have?\n",
    "wrks = ! echo %NUMBER_OF_PROCESSORS%\n",
    "print( wrks[0] + ' cores /workers')"
   ]
  },
  {
   "cell_type": "code",
   "execution_count": 1,
   "metadata": {
    "collapsed": false
   },
   "outputs": [
    {
     "data": {
      "text/plain": [
       "<pyspark.context.SparkContext at 0x4020c50>"
      ]
     },
     "execution_count": 1,
     "metadata": {},
     "output_type": "execute_result"
    }
   ],
   "source": [
    "# Check Spark context\n",
    "sc"
   ]
  },
  {
   "cell_type": "code",
   "execution_count": 2,
   "metadata": {
    "collapsed": false
   },
   "outputs": [
    {
     "data": {
      "text/plain": [
       "<pyspark.sql.context.HiveContext at 0x87e69b0>"
      ]
     },
     "execution_count": 2,
     "metadata": {},
     "output_type": "execute_result"
    }
   ],
   "source": [
    "# SQL Context\n",
    "sqlContext"
   ]
  },
  {
   "cell_type": "code",
   "execution_count": 22,
   "metadata": {
    "collapsed": false
   },
   "outputs": [
    {
     "data": {
      "text/plain": [
       "<pyspark.sql.context.HiveContext at 0x87b5a20>"
      ]
     },
     "execution_count": 22,
     "metadata": {},
     "output_type": "execute_result"
    }
   ],
   "source": [
    "# Hive Context\n",
    "sqlCtx"
   ]
  },
  {
   "cell_type": "code",
   "execution_count": 22,
   "metadata": {
    "collapsed": false
   },
   "outputs": [
    {
     "data": {
      "text/plain": [
       "[]"
      ]
     },
     "execution_count": 22,
     "metadata": {},
     "output_type": "execute_result"
    }
   ],
   "source": [
    "hv_data = sc.textFile(\"../csv_s/new_data.csv\", use_unicode=False)\n",
    "hv_data.take(3)"
   ]
  },
  {
   "cell_type": "code",
   "execution_count": 18,
   "metadata": {
    "collapsed": false
   },
   "outputs": [
    {
     "data": {
      "text/plain": [
       "183889"
      ]
     },
     "execution_count": 18,
     "metadata": {},
     "output_type": "execute_result"
    }
   ],
   "source": [
    "f_1st.count()"
   ]
  },
  {
   "cell_type": "code",
   "execution_count": 25,
   "metadata": {
    "collapsed": false
   },
   "outputs": [
    {
     "data": {
      "text/plain": [
       "['accept_language,browser,browser_height,browser_width,campaign,c_color,channel,click_action,click_action_type,click_context,click_context_type,click_sourceid,click_tag,code_ver,color,connection_type,cookies,country,ct_connect_type,currency,curr_factor,curr_rate,cust_hit_time_gmt,cust_visid,daily_visitor,date_time,domain,rptg_st_name,duplicate_events,duplicate_purchase,evar1,evar2,evar3,evar4,evar5,evar6,evar7,evar8,evar9,evar10,evar11,evar12,evar13,evar14,evar15,evar16,evar17,evar18,evar19,evar20,evar21,evar22,evar23,evar24,evar25,evar26,evar27,evar28,evar29,evar30,evar31,evar32,evar33,evar34,evar35,evar36,evar37,evar38,evar39,evar40,evar41,evar42,evar43,evar44,evar45,evar46,evar47,evar48,evar49,evar50,evar51,evar52,evar53,evar54,evar55,evar56,evar57,evar58,evar59,evar60,evar61,evar62,evar63,evar64,evar65,evar66,evar67,evar68,evar69,evar70,evar71,evar72,evar73,evar74,evar75,event_list,exclude_hit,first_hit_pagename,first_hit_page_url,first_hit_referrer,first_hit_time_gmt,geo_city,geo_country,geo_dma,geo_region,geo_zip,hier1,hier2,hier3,hier4,hier5,hitid_high,hitid_low,hit_source,hit_time_gmt,homepage,hourly_visitor,ip,ip2,java_enabled,javascript,j_jscript,language,last_hit_time_gmt,last_purchase_num,last_purchase_time_gmt,mobile_id,monthly_visitor,mvvar1,mvvar2,mvvar3,namespace,new_visit,os,page_event,page_event_var1,page_event_var2,page_event_var3,pagename,page_type,page_url,paid_search,partner_plugins,persistent_cookie,plugins,post_browser_height,post_browser_width,post_campaign,post_channel,post_cookies,post_currency,post_cust_hit_time_gmt,post_cust_visid,post_evar1,post_evar2,post_evar3,post_evar4,post_evar5,post_evar6,post_evar7,post_evar8,post_evar9,post_evar10,post_evar11,post_evar12,post_evar13,post_evar14,post_evar15,post_evar16,post_evar17,post_evar18,post_evar19,post_evar20,post_evar21,post_evar22,post_evar23,post_evar24,post_evar25,post_evar26,post_evar27,post_evar28,post_evar29,post_evar30,post_evar31,post_evar32,post_evar33,post_evar34,post_evar35,post_evar36,post_evar37,post_evar38,post_evar39,post_evar40,post_evar41,post_evar42,post_evar43,post_evar44,post_evar45,post_evar46,post_evar47,post_evar48,post_evar49,post_evar50,post_evar51,post_evar52,post_evar53,post_evar54,post_evar55,post_evar56,post_evar57,post_evar58,post_evar59,post_evar60,post_evar61,post_evar62,post_evar63,post_evar64,post_evar65,post_evar66,post_evar67,post_evar68,post_evar69,post_evar70,post_evar71,post_evar72,post_evar73,post_evar74,post_evar75,post_event_list,post_hier1,post_hier2,post_hier3,post_hier4,post_hier5,post_java_enabled,post_keywords,post_mvvar1,post_mvvar2,post_mvvar3,post_page_event,post_page_event_var1,post_page_event_var2,post_page_event_var3,post_pagename,post_pagename_no_url,post_page_type,post_page_url,post_partner_plugins,post_persistent_cookie,post_product_list,post_prop1,post_prop2,post_prop3,post_prop4,post_prop5,post_prop6,post_prop7,post_prop8,post_prop9,post_prop10,post_prop11,post_prop12,post_prop13,post_prop14,post_prop15,post_prop16,post_prop17,post_prop18,post_prop19,post_prop20,post_prop21,post_prop22,post_prop23,post_prop24,post_prop25,post_prop26,post_prop27,post_prop28,post_prop29,post_prop30,post_prop31,post_prop32,post_prop33,post_prop34,post_prop35,post_prop36,post_prop37,post_prop38,post_prop39,post_prop40,post_prop41,post_prop42,post_prop43,post_prop44,post_prop45,post_prop46,post_prop47,post_prop48,post_prop49,post_prop50,post_prop51,post_prop52,post_prop53,post_prop54,post_prop55,post_prop56,post_prop57,post_prop58,post_prop59,post_prop60,post_prop61,post_prop62,post_prop63,post_prop64,post_prop65,post_prop66,post_prop67,post_prop68,post_prop69,post_prop70,post_prop71,post_prop72,post_prop73,post_prop74,post_prop75,post_purchaseid,post_referrer,post_search_engine,post_state,post_survey,post_tnt,post_transactionid,post_t_time_info,post_visid_high,post_visid_low,post_visid_type,post_zip,p_plugins,prev_page,product_list,product_merchandising,prop1,prop2,prop3,prop4,prop5,prop6,prop7,prop8,prop9,prop10,prop11,prop12,prop13,prop14,prop15,prop16,prop17,prop18,prop19,prop20,prop21,prop22,prop23,prop24,prop25,prop26,prop27,prop28,prop29,prop30,prop31,prop32,prop33,prop34,prop35,prop36,prop37,prop38,prop39,prop40,prop41,prop42,prop43,prop44,prop45,prop46,prop47,prop48,prop49,prop50,prop51,prop52,prop53,prop54,prop55,prop56,prop57,prop58,prop59,prop60,prop61,prop62,prop63,prop64,prop65,prop66,prop67,prop68,prop69,prop70,prop71,prop72,prop73,prop74,prop75,purchaseid,quarterly_visitor,ref_domain,referrer,ref_type,resolution,sampled_hit,search_engine,search_page_num,secondary_hit,service,sourceid,s_resolution,state,stats_server,tnt,tnt_post_vista,transactionid,truncated_hit,t_time_info,ua_color,ua_os,ua_pixels,user_agent,user_hash,userid,username,user_server,va_closer_detail,va_closer_id,va_finder_detail,va_finder_id,va_instance_event,va_new_engagement,visid_high,visid_low,visid_new,visid_timestamp,visid_type,visit_keywords,visit_num,visit_page_num,visit_referrer,visit_search_engine,visit_start_pagename,visit_start_page_url,visit_start_time_gmt,weekly_visitor,yearly_visitor,zip,session_id,video_viewed_duration,video_segment_view,video_play,video_complete,ppv_stream,premium_stream,live_stream,live_stream_stop,social_sharing,search_sucess,voice_search_sucess,search_failure,message_key_nitification,hit_id,login_visit_id,link_id,exit_url,referral_url,att_access_id,cust_type_desc,evar76,evar99,post_evar76,post_evar99,src_t_time_info,dt',\n",
       " 'en-us,2661327960,0,0,,,,,0,,0,0,,OIP-4.8.1,0,2,U,304,,,2,1.000000000000,1465768927,C130BD4104F8604FDA0A8B606055B3F4BC32,0,2016-06-12 15:02:07,verizon.net,DTVAPPIPADPROD,,0,,Sports_Guide_QuickLink,,,,,,,,Existing,,,,,,,,,,,,,,,,,MP|Null|Null|Null|Null|3804953268,,9A168981D4654317B6A6772E7E9C4753,,7049405,,,,,,,,,,,,,,,,,,,,,,,,,,,,,,2016-06-12T18:02:07-0400,,,,,,,,,,,,,,,\"501,508,507,509,128,109,130,160,101,126,219=1,197\",0,My Account:Sign In:Prospect,https://www.directv.com/DTVAPP/login/login.jsp?_requestid=3148449,https://support.directv.com/app/contact_us,1411344287,ridgefield,usa,501,nj,07657,,,,,,3147714802563383296,5733576088504777876,1,1465768927,U,0,96.242.184.149,,U,0,,45,1465768877,0,0,1826129,0,,,,,0,1133349547,10,,AMACTION:att.action.moduleclick,,,,,0,,Y,,0,0,ipad-rescus-cus-audience-en-YouMeHer03162016,,U,USD,1465768927,7049405,,Sports_Guide_QuickLink,,ET,,,NULL,,,Existing,iPad,,,,,,,,,,,,,,,,MP|Null|Null|Null|Null|3804953268,,9A168981D4654317B6A6772E7E9C4753,,7049405,Wifi,,NULL,,,,iOS 4.5.101,,iPad2.4/9.3.2,,,No Cart,,,,,,Whats On:Sports,,,,,OutHouse|NoReceiver,6:01PM,,CP,,,,2016-06-12T18:02:07-0400,,Null|Null|Null|Null,,,,,,,,,,Whats On,,,\"501,128,109,130,160,101,126,219,197\",,,,,,U,,,,,100,,AMACTION:att.action.moduleclick,,,,,,,Y,;;;;,,,,,,7049405,Existing,,,,,,,,,,,,,,,,,,,,MP|Null|Null|Null|Null|3804953268,,9A168981D4654317B6A6772E7E9C4753,,,,,,,,,,,,,,,,,,,,dtvappipadprod,,,,,,,,,,,,,,,,,,,,,,,,,OIP-4.8.1,,,,0,,,,,00/00/0000 00:00:00 0 240,4177453239,1212340604,0,::hash::0,,0,,,,,,,,7049405,Existing,,,,,,,,,,,,,,,,,,,,MP|Null|Null|Null|Null|3804953268,,9A168981D4654317B6A6772E7E9C4753,,,,,,,,,,,,,,,,,,,,dtvappipadprod,,,,,,,,,,,,,,,,,,,,,,,,,OIP-4.8.1,,,0,,,6,0,Y,0,0,1,pe,0,,,duplicated.hit,,,,N,12/05/2016 18:02:07 0 000,,,,Mozilla/5.0 (iPad; CPU OS 9_3_2 like Mac OS X; en-US),2954868659,180087,dtvglobalvisitor,,::hash::3548670820,14,::hash::2593650934,6,0,0,3109737080382018286,4611687190416770216,N,1448084172,3,,1246,5,,0,,,1465768863,0,0,,DTVAPPIPADPROD:4177453239:1212340604:1246,0,0,0,0,0,0,0,0,0,0,0,0,0,31477148025633832965733576088504777876,4177453239:1212340604,UNKNOWN,UNKNOWN,UNKNOWN,UNKNOWN,EXISTING,,,,,00/00/0000 00:00:00 0 240,2016-06-12',\n",
       " 'en-us,2661327960,0,0,,,,,0,,0,0,,OIP-4.8.1,0,2,U,304,,,2,1.000000000000,1465768877,C130BD4104F8604FDA0A8B606055B3F4BC32,0,2016-06-12 15:01:17,verizon.net,DTVAPPIPADPROD,,0,,,,,,,NULL,,,Existing,iPad,,,,,,,,,,,,,,,,MP|Null|Null|Null|Null|3804953268,,9A168981D4654317B6A6772E7E9C4753,,7049405,Wifi,,NULL,,,,iOS 4.5.101,,iPad2.4/9.3.2,,,,,,,,,Whats On:Sports,,,,,OutHouse|NoReceiver,6:01PM,,CP,,,,2016-06-12T18:01:14-0400,,Null|Null|Null|Null,,,Whats On,Whats On:Sports,Whats On:Sports,Whats On:Sports,,,,,,,\"501,508,507,509,148,165,166,167,168,110,128,131,153,106,109,130,154,160,133,162,126,137,139,156,197\",0,My Account:Sign In:Prospect,https://www.directv.com/DTVAPP/login/login.jsp?_requestid=3148449,https://support.directv.com/app/contact_us,1411344287,ridgefield,usa,501,nj,07657,,,,,,3147714695189200896,4796932894432581817,1,1465768877,U,0,96.242.184.149,,U,0,,45,1465768875,0,0,1826129,0,,,,,0,1133349547,0,,,,Whats On:Sports,,,0,,Y,,0,0,ipad-rescus-cus-audience-en-YouMeHer03162016,,U,USD,1465768877,7049405,,Home_Sports_QuickLink,,ET,,,NULL,,,Existing,iPad,,,,,,,,,,,,,,,,MP|Null|Null|Null|Null|3804953268,,9A168981D4654317B6A6772E7E9C4753,,7049405,Wifi,,NULL,,,,iOS 4.5.101,,iPad2.4/9.3.2,,,No Cart,,,,,,Whats On:Sports,,,,,OutHouse|NoReceiver,6:01PM,,CP,,,,2016-06-12T18:01:14-0400,,Null|Null|Null|Null,,,,,,,,,,Whats On,,,\"501,148,110,128,131,153,106,109,130,154,160,133,162,126,137,139,156,197,172\",,,,,,U,,,,,0,,,,Whats On:Sports,Whats On:Sports,,,,Y,;;;;,Whats On,Whats On:Sports,Whats On:Sports,Whats On:Sports,,7049405,Existing,,,,,,,,NULL,,,,,,,,,,,,MP|Null|Null|Null|Null|3804953268,,9A168981D4654317B6A6772E7E9C4753,,,,,,,,,,,,,,,,,,,,dtvappipadprod,,,,6:01PM,Sunday,,,,,,,,,Null|Null|Null|Null,,,,,,,,,,,OIP-4.8.1,,,,0,,,,,00/00/0000 00:00:00 0 240,4177453239,1212340604,0,::hash::0,,303927164,,,Whats On,Whats On:Sports,Whats On:Sports,Whats On:Sports,,7049405,Existing,,,,,,,,NULL,,,,,,,,,,,,MP|Null|Null|Null|Null|3804953268,,9A168981D4654317B6A6772E7E9C4753,,,,,,,,,,,,,,,,,,,,dtvappipadprod,,,,6:01PM,Sunday,,,,,,,,,Null|Null|Null|Null,,,,,,,,,,,OIP-4.8.1,,,0,,,6,0,Y,0,0,1,ss,0,,,duplicated.hit,,,,N,12/05/2016 18:01:14 0 000,,,,Mozilla/5.0 (iPad; CPU OS 9_3_2 like Mac OS X; en-US),2954868659,180087,dtvglobalvisitor,,::hash::3548670820,14,::hash::2593650934,6,0,0,3109737080382018286,4611687190416770216,N,1448084172,3,,1246,4,,0,,,1465768863,0,0,,DTVAPPIPADPROD:4177453239:1212340604:1246,0,0,0,0,0,0,0,0,0,0,0,0,0,31477146951892008964796932894432581817,4177453239:1212340604,UNKNOWN,6:01PM,SUNDAY,UNKNOWN,EXISTING,,,,,00/00/0000 00:00:00 0 240,2016-06-12',\n",
       " 'en-us,2661327960,0,0,,,,,0,,0,0,,OIP-4.8.1,0,2,U,304,,,2,1.000000000000,1465768875,C130BD4104F8604FDA0A8B606055B3F4BC32,0,2016-06-12 15:01:15,verizon.net,DTVAPPIPADPROD,,0,,Home_Sports_QuickLink,,,,,,,,Existing,,,,,,,,,,,,,,,,,MP|Null|Null|Null|Null|3804953268,,9A168981D4654317B6A6772E7E9C4753,,7049405,,,,,,,,,,,,,,,,,,,,,,,,,,,,,,2016-06-12T18:01:13-0400,,,,,,,,,,,,,,,\"501,508,507,509,128,109,130,160,101,126,219=1,197\",0,My Account:Sign In:Prospect,https://www.directv.com/DTVAPP/login/login.jsp?_requestid=3148449,https://support.directv.com/app/contact_us,1411344287,ridgefield,usa,501,nj,07657,,,,,,3147714690894233600,5107223854703487789,1,1465768875,U,0,96.242.184.149,,U,0,,45,1465768870,0,0,1826129,0,,,,,0,1133349547,10,,AMACTION:att.action.moduleclick,,,,,0,,Y,,0,0,ipad-rescus-cus-audience-en-YouMeHer03162016,,U,USD,1465768875,7049405,,Home_Sports_QuickLink,,ET,,,NULL,,,Existing,iPad,,,,,,,,,,,,,,,,MP|Null|Null|Null|Null|3804953268,,9A168981D4654317B6A6772E7E9C4753,,7049405,Wifi,,NULL,,,,iOS 4.5.101,,iPad2.4/9.3.2,,,No Cart,,,,,,Homepage,,,,,OutHouse|NoReceiver,6:01PM,,CP,,,,2016-06-12T18:01:13-0400,,Null|Null|Null|Null,,,,,,,,,,Homepage,,,\"501,128,109,130,160,101,126,219,197\",,,,,,U,,,,,100,,AMACTION:att.action.moduleclick,,,,,,,Y,;;;;,,,,,,7049405,Existing,,,,,,,,,,,,,,,,,,,,MP|Null|Null|Null|Null|3804953268,,9A168981D4654317B6A6772E7E9C4753,,,,,,,,,,,,,,,,,,,,dtvappipadprod,,,,,,,,,,,,,,,,,,,,,,,,,OIP-4.8.1,,,,0,,,,,00/00/0000 00:00:00 0 240,4177453239,1212340604,0,::hash::0,,0,,,,,,,,7049405,Existing,,,,,,,,,,,,,,,,,,,,MP|Null|Null|Null|Null|3804953268,,9A168981D4654317B6A6772E7E9C4753,,,,,,,,,,,,,,,,,,,,dtvappipadprod,,,,,,,,,,,,,,,,,,,,,,,,,OIP-4.8.1,,,0,,,6,0,Y,0,0,1,pe,0,,,duplicated.hit,,,,N,12/05/2016 18:01:13 0 000,,,,Mozilla/5.0 (iPad; CPU OS 9_3_2 like Mac OS X; en-US),2954868659,180087,dtvglobalvisitor,,::hash::3548670820,14,::hash::2593650934,6,0,0,3109737080382018286,4611687190416770216,N,1448084172,3,,1246,3,,0,,,1465768863,0,0,,DTVAPPIPADPROD:4177453239:1212340604:1246,0,0,0,0,0,0,0,0,0,0,0,0,0,31477146908942336005107223854703487789,4177453239:1212340604,UNKNOWN,UNKNOWN,UNKNOWN,UNKNOWN,EXISTING,,,,,00/00/0000 00:00:00 0 240,2016-06-12',\n",
       " 'en-us,2661327960,0,0,,,,,0,,0,0,,OIP-4.8.1,0,2,U,304,,,2,1.000000000000,1465768870,C130BD4104F8604FDA0A8B606055B3F4BC32,0,2016-06-12 15:01:10,verizon.net,DTVAPPIPADPROD,,0,,,,,,,NULL,,,Existing,iPad,,,,,,,,,,,,,,,,MP|Null|Null|Null|Null|3804953268,,9A168981D4654317B6A6772E7E9C4753,,7049405,Wifi,,NULL,,,,iOS 4.5.101,,iPad2.4/9.3.2,,,,,,,,,Homepage,,,,,OutHouse|NoReceiver,6:01PM,,CP,,,,2016-06-12T18:01:09-0400,,Null|Null|Null|Null,,,Homepage,Homepage,Homepage,Homepage,,,,,,,\"501,508,507,509,148,165,166,167,168,110,128,131,153,106,109,130,154,160,133,162,126,137,139,156,197\",0,My Account:Sign In:Prospect,https://www.directv.com/DTVAPP/login/login.jsp?_requestid=3148449,https://support.directv.com/app/contact_us,1411344287,ridgefield,usa,501,nj,07657,,,,,,3147714680156815360,5089983520436631872,1,1465768870,U,0,96.242.184.149,,U,0,,45,1465768863,0,0,1826129,0,,,,,0,1133349547,0,,,,Homepage,,,0,,Y,,0,0,ipad-rescus-cus-audience-en-YouMeHer03162016,,U,USD,1465768870,7049405,,,,ET,,,NULL,,,Existing,iPad,,,,,,,,,,,,,,,,MP|Null|Null|Null|Null|3804953268,,9A168981D4654317B6A6772E7E9C4753,,7049405,Wifi,,NULL,,,,iOS 4.5.101,,iPad2.4/9.3.2,,,No Cart,,,,,,Homepage,,,,,OutHouse|NoReceiver,6:01PM,,CP,,,,2016-06-12T18:01:09-0400,,Null|Null|Null|Null,,,,,,,,,,Homepage,,,\"501,148,110,128,131,153,106,109,130,154,160,133,162,126,137,139,156,197,172\",,,,,,U,,,,,0,,,,Homepage,Homepage,,,,Y,;;;;,Homepage,Homepage,Homepage,Homepage,,7049405,Existing,,,,,,,,NULL,,,,,,,,,,,,MP|Null|Null|Null|Null|3804953268,,9A168981D4654317B6A6772E7E9C4753,,,,,,,,,,,,,,,,,,,,dtvappipadprod,,,,6:01PM,Sunday,,,,,,,,,Null|Null|Null|Null,,,,,,,,,,,OIP-4.8.1,,,,0,,,,,00/00/0000 00:00:00 0 240,4177453239,1212340604,0,::hash::0,,0,,,Homepage,Homepage,Homepage,Homepage,,7049405,Existing,,,,,,,,NULL,,,,,,,,,,,,MP|Null|Null|Null|Null|3804953268,,9A168981D4654317B6A6772E7E9C4753,,,,,,,,,,,,,,,,,,,,dtvappipadprod,,,,6:01PM,Sunday,,,,,,,,,Null|Null|Null|Null,,,,,,,,,,,OIP-4.8.1,,,0,,,6,0,Y,0,0,1,ss,0,,,duplicated.hit,,,,N,12/05/2016 18:01:09 0 000,,,,Mozilla/5.0 (iPad; CPU OS 9_3_2 like Mac OS X; en-US),2954868659,180087,dtvglobalvisitor,,::hash::3548670820,14,::hash::2593650934,6,0,0,3109737080382018286,4611687190416770216,N,1448084172,3,,1246,2,,0,,,1465768863,0,0,,DTVAPPIPADPROD:4177453239:1212340604:1246,0,0,0,0,0,0,0,0,0,0,0,0,0,31477146801568153605089983520436631872,4177453239:1212340604,UNKNOWN,6:01PM,SUNDAY,UNKNOWN,EXISTING,,,,,00/00/0000 00:00:00 0 240,2016-06-12']"
      ]
     },
     "execution_count": 25,
     "metadata": {},
     "output_type": "execute_result"
    }
   ],
   "source": [
    "sc.textFile(\"./csv/viewership_data.csv\").take(5)"
   ]
  },
  {
   "cell_type": "code",
   "execution_count": null,
   "metadata": {
    "collapsed": true
   },
   "outputs": [],
   "source": []
  }
 ],
 "metadata": {
  "anaconda-cloud": {},
  "kernelspec": {
   "display_name": "Python [Root]",
   "language": "python",
   "name": "Python [Root]"
  },
  "language_info": {
   "codemirror_mode": {
    "name": "ipython",
    "version": 3
   },
   "file_extension": ".py",
   "mimetype": "text/x-python",
   "name": "python",
   "nbconvert_exporter": "python",
   "pygments_lexer": "ipython3",
   "version": "3.5.2"
  }
 },
 "nbformat": 4,
 "nbformat_minor": 0
}
